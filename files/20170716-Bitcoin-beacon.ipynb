{
 "cells": [
  {
   "cell_type": "markdown",
   "metadata": {},
   "source": [
    "# Bitcoin beacon in Python"
   ]
  },
  {
   "cell_type": "markdown",
   "metadata": {},
   "source": [
    "This notebook implements the Bitcoin beacon described in the paper _On Bitcoin as a public randomness source_ by\n",
    "Joseph Bonneau, Jeremy Clark, and Steven Goldfeder. A copy of the paper can be found here https://eprint.iacr.org/2015/1015. This beacon uses the >68 (at the time of writing) bits of min-entropy in the block header to generate 32 near-uniform bits. This notebook can be accessed directly [here](https://github.com/charlesjlee/charlesjlee-website/tree/gh-pages/files/Bitcoin_beacon.ipynb).\n",
    "\n",
    "Block header manipulation code from https://en.bitcoin.it/wiki/Block_hashing_algorithm  \n",
    "HDKF extractor (an HMAC-based function) code from https://en.wikipedia.org/wiki/HKDF\n",
    "\n",
    "We begin by importing some useful libraries and defining some functions:"
   ]
  },
  {
   "cell_type": "code",
   "execution_count": 1,
   "metadata": {
    "collapsed": false,
    "scrolled": true
   },
   "outputs": [],
   "source": [
    "import requests\n",
    "import hashlib\n",
    "from binascii import hexlify, unhexlify\n",
    "import hmac\n",
    "from math import ceil\n",
    "hash_len = 32"
   ]
  },
  {
   "cell_type": "code",
   "execution_count": 2,
   "metadata": {
    "collapsed": true
   },
   "outputs": [],
   "source": [
    "def getCurrentBlockCount():\n",
    "    \"\"\"Return the currrent block count from blockexplorer.com.\"\"\"\n",
    "    url = 'https://blockexplorer.com/api/status?q=getBlockCount'\n",
    "    r = requests.get(url)\n",
    "    data = r.json()\n",
    "    blockCount = data['blockcount']\n",
    "    \n",
    "    return blockCount\n",
    "\n",
    "def lookupBlockHash(blockCount):\n",
    "    \"\"\"Return the block hash, given the block index.\"\"\"\n",
    "    url = 'https://blockexplorer.com/api/block-index/' + str(blockCount)\n",
    "    r = requests.get(url)\n",
    "    data = r.json()\n",
    "    blockHash = data['blockHash']\n",
    "    \n",
    "    return blockHash\n",
    "\n",
    "def extractBlockHeaderHex(blockCount):\n",
    "    \"\"\"Extract the block header in hex, given the block index.\"\"\"\n",
    "    blockHash = lookupBlockHash(blockCount)\n",
    "    url = 'https://blockexplorer.com/api/rawblock/' + str(blockHash)\n",
    "    r = requests.get(url)\n",
    "    data = r.json()\n",
    "    rawblock = data['rawblock']\n",
    "    headerHex = rawblock[0:160]\n",
    "\n",
    "    return headerHex\n",
    "\n",
    "def hmac_sha256(key, data):\n",
    "    \"\"\"Generate pseudo-random-keyed (PRK-keyed) hash-block\"\"\"\n",
    "    return hmac.new(key, data, hashlib.sha256).digest()\n",
    "\n",
    "def hkdf(length, ikm, salt=b\"\", info=b\"\"):\n",
    "    \"\"\"Generate cryptographically strong output key material (OKM) of any desired length.\n",
    "    \n",
    "    Repeatedly generate pseudo-random-keyed (PRK-keyed) hash-blocks, append them into\n",
    "    the output key material, and finally truncate to the desired length.\n",
    "    \n",
    "    \"\"\"\n",
    "    prk = hmac_sha256(salt, ikm)\n",
    "    t = b\"\"\n",
    "    okm = b\"\"\n",
    "    for i in range(ceil(length / hash_len)):\n",
    "        t = hmac_sha256(prk, t + info + bytes([1+i]))\n",
    "        okm += t\n",
    "    return okm[:length]"
   ]
  },
  {
   "cell_type": "markdown",
   "metadata": {},
   "source": [
    "Let's first manually compute the latest block hash using extractBlockHeaderHex() to confirm that it is working correctly."
   ]
  },
  {
   "cell_type": "code",
   "execution_count": 3,
   "metadata": {
    "collapsed": false
   },
   "outputs": [
    {
     "name": "stdout",
     "output_type": "stream",
     "text": [
      "For block number 475533, the retrieved hash and the computed hash...\n",
      "match! Both hashes are 00000000000000000006ce6b1db8286c229a90a5ebf2adee41cc21403fcd7013\n"
     ]
    }
   ],
   "source": [
    "blockCount = getCurrentBlockCount()\n",
    "lookupHash = lookupBlockHash(blockCount)\n",
    "\n",
    "# compute the block hash\n",
    "headerHex = extractBlockHeaderHex(blockCount)\n",
    "headerUnhex = unhexlify(headerHex) # convert to binary\n",
    "headerHash = hashlib.sha256(hashlib.sha256(headerUnhex).digest()).digest() # hash twice using SHA256\n",
    "computedHash = str(hexlify(headerHash[::-1]), 'utf-8') # flip to big-endian\n",
    "\n",
    "# compare hashes\n",
    "print(\"For block number {}, the retrieved hash and the computed hash...\".format(blockCount))\n",
    "if lookupHash == computedHash:\n",
    "    print(\"match! Both hashes are {}\".format(lookupHash))\n",
    "else:\n",
    "    print(\"don't match! lookupHash is {} and computedHash is {}\".format(lookupHash, computedHash))"
   ]
  },
  {
   "cell_type": "markdown",
   "metadata": {},
   "source": [
    "Next we create the extractor input and pass it to the HKDF extractor to get our 32 near-uniform bits. The extractor input is just _(block header) OR (hashed block header, aka the block hash)_. We add the hashed block header to prevent malicious miners from exclusively trying hash solutions that produce a certain beacon output. Since the hash of the header is unpredictable, malicious miners must mine normally: finding valid hash solutions, computing the beacon output, then deciding whether to withold the block."
   ]
  },
  {
   "cell_type": "code",
   "execution_count": 4,
   "metadata": {
    "collapsed": false
   },
   "outputs": [
    {
     "name": "stdout",
     "output_type": "stream",
     "text": [
      "extractorInput (640 bits):\n",
      "0000001000000000000000000010000001111000111010000010110111110101100101111110101000100110010010001010110011110100110100001001011110100101010001110111110100101100001111111000111000000111101100001100010101011000001001100000000000000000000000000000000000000000000000000000000000000000000000001110011110011111001011011101111111111011101101010110010111011101000000100011100110110101101000110010010001010001010010010111101111010101111101010110110000011100010010110011011111001111011110111001111111111000011011110111110001101010100110101011000110100111111111111111111011101111111111110111000111001101001000010101100000111111110111110111100000010111\n"
     ]
    }
   ],
   "source": [
    "# convert inputs to binary\n",
    "# (pre-pend and strip a '1' to preserve leading zeros)\n",
    "header_bin = bin(int('1'+headerHex, 16))[3:] # 640 bits\n",
    "blockHash_bin = bin(int('1'+lookupHash, 16))[3:] # 256 bits\n",
    "\n",
    "# build input and feed to hkdf()\n",
    "extractorInput = int(header_bin,2) | int(blockHash_bin,2)\n",
    "extractorInput = bin(extractorInput)[2:].zfill(640)\n",
    "print(\"extractorInput ({} bits):\\n{}\".format(len(extractorInput), extractorInput))"
   ]
  },
  {
   "cell_type": "code",
   "execution_count": 5,
   "metadata": {
    "collapsed": false
   },
   "outputs": [
    {
     "name": "stdout",
     "output_type": "stream",
     "text": [
      "extractorOutput aka beacon output (32 bits):\n",
      "10100111100100000011101001011100\n"
     ]
    }
   ],
   "source": [
    "extractorInputBytes = extractorInput.encode('utf-8') # convert to bytes\n",
    "extractorOutputBytes = hkdf(4, extractorInputBytes)\n",
    "extractorOutput = bin(int.from_bytes(extractorOutputBytes, 'big'))[2:].zfill(32)\n",
    "print(\"extractorOutput aka beacon output ({} bits):\\n{}\".format(len(extractorOutput), extractorOutput))"
   ]
  }
 ],
 "metadata": {
  "kernelspec": {
   "display_name": "Python 3",
   "language": "python",
   "name": "python3"
  },
  "language_info": {
   "codemirror_mode": {
    "name": "ipython",
    "version": 3
   },
   "file_extension": ".py",
   "mimetype": "text/x-python",
   "name": "python",
   "nbconvert_exporter": "python",
   "pygments_lexer": "ipython3",
   "version": "3.6.0"
  }
 },
 "nbformat": 4,
 "nbformat_minor": 2
}
